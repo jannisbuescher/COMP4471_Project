{
  "nbformat": 4,
  "nbformat_minor": 0,
  "metadata": {
    "colab": {
      "provenance": []
    },
    "kernelspec": {
      "name": "python3",
      "display_name": "Python 3"
    },
    "language_info": {
      "name": "python"
    },
    "accelerator": "GPU",
    "gpuClass": "standard"
  },
  "cells": [
    {
      "cell_type": "code",
      "execution_count": null,
      "metadata": {
        "id": "_n1YcNeZCKGd",
        "colab": {
          "base_uri": "https://localhost:8080/"
        },
        "outputId": "0690e973-b65d-4962-f4e6-34389fa76c55"
      },
      "outputs": [
        {
          "output_type": "stream",
          "name": "stdout",
          "text": [
            "Drive already mounted at /content/drive; to attempt to forcibly remount, call drive.mount(\"/content/drive\", force_remount=True).\n",
            "assets\t\tdeploy\t\t README_cn.md\t   turtorial.ipynb\n",
            "configs\t\tdocs\t\t README.md\t   weights\n",
            "custom_dataset\tinference.ipynb  requirements.txt  yolov6\n",
            "data\t\tLICENSE\t\t tools\t\t   yolov6l_base.pt\n"
          ]
        }
      ],
      "source": [
        "# !git clone https://github.com/meituan/YOLOv6.git\n",
        "\n",
        "#/content/YOLOv6\n",
        "\n",
        "from google.colab import drive\n",
        "drive.mount('/content/drive')\n",
        "\n",
        "# !rm -rf '/content/YOLOv6/custom_dataset/labels'\n",
        "# weights: https://github.com/meituan/YOLOv6/releases\n",
        "# change \n",
        "# change line 4 /content/YOLOv6/weights/yolov6s.pt in /content/YOLOv6/configs/yolov6s_finetune.py\n",
        "# change /content/drive/MyDrive/YOLOv6/data/dataset.yaml\n",
        "\n",
        "!ls '/content/drive/MyDrive/YOLOv6'"
      ]
    },
    {
      "cell_type": "code",
      "source": [
        "!cd YOLOv6"
      ],
      "metadata": {
        "id": "gCDzUHQgOxJs"
      },
      "execution_count": null,
      "outputs": []
    },
    {
      "cell_type": "code",
      "source": [
        "import zipfile\n",
        "\n",
        "with zipfile.ZipFile(\"/content/drive/MyDrive/custom_dataset.zip\", 'r') as zip_ref:\n",
        "    zip_ref.extractall(\"/content/drive/MyDrive/YOLOv6\")\n",
        "\n",
        "!rm -rf '/content/drive/MyDrive/YOLOv6/custom_dataset/labels'\n",
        "\n",
        "with zipfile.ZipFile(\"/content/drive/MyDrive/labels.zip\", 'r') as zip_ref:\n",
        "    zip_ref.extractall(\"/content/drive/MyDrive/YOLOv6/custom_dataset\")\n"
      ],
      "metadata": {
        "id": "HX3jSFvDW_k1"
      },
      "execution_count": null,
      "outputs": []
    },
    {
      "cell_type": "code",
      "source": [
        "!pip install -r '/content/drive/MyDrive/YOLOv6/requirements.txt'"
      ],
      "metadata": {
        "id": "OUMnaFPp0pZE"
      },
      "execution_count": null,
      "outputs": []
    },
    {
      "cell_type": "markdown",
      "source": [],
      "metadata": {
        "id": "faJXg_nH0o8F"
      }
    },
    {
      "cell_type": "code",
      "source": [
        "! echo $PYTHONPATH\n",
        "\n",
        "import os\n",
        "os.environ['PYTHONPATH']  = \"/env/python\"\n",
        "os.environ['PYTHONPATH'] += \":/content/drive/MyDrive/YOLOv6\"\n",
        "\n",
        "! echo $PYTHONPATH"
      ],
      "metadata": {
        "colab": {
          "base_uri": "https://localhost:8080/"
        },
        "id": "gYLggvDR2tn4",
        "outputId": "38aadd6f-b806-49d5-ac88-3e69fa8b5006"
      },
      "execution_count": null,
      "outputs": [
        {
          "output_type": "stream",
          "name": "stdout",
          "text": [
            "/env/python\n",
            "/env/python:/content/drive/MyDrive/YOLOv6\n"
          ]
        }
      ]
    },
    {
      "cell_type": "code",
      "source": [
        "#python tools/train.py --batch 256 --conf configs/yolov6s_finetune.py --data data/data.yaml --device 0\n",
        "\n",
        "!python3 \"/content/drive/MyDrive/YOLOv6/tools/train.py\" --batch 64 --epochs 20 --conf /content/drive/MyDrive/YOLOv6/configs/yolov6s_finetune.py --data /content/drive/MyDrive/YOLOv6/data/dataset.yaml --device 0"
      ],
      "metadata": {
        "id": "5hCEzH4TIC3V",
        "colab": {
          "base_uri": "https://localhost:8080/"
        },
        "outputId": "4c668375-aaf5-4288-f1e0-065a62bf1fe8"
      },
      "execution_count": null,
      "outputs": [
        {
          "output_type": "stream",
          "name": "stdout",
          "text": [
            "Traceback (most recent call last):\n",
            "  File \"/content/drive/MyDrive/YOLOv6/tools/train.py\", line 17, in <module>\n",
            "    from yolov6.core.engine import Trainer\n",
            "  File \"/content/drive/MyDrive/YOLOv6/yolov6/core/engine.py\", line 18, in <module>\n",
            "    import tools.eval as eval\n",
            "  File \"/content/drive/MyDrive/YOLOv6/tools/eval.py\", line 16, in <module>\n",
            "    from yolov6.utils.config import Config\n",
            "  File \"/content/drive/MyDrive/YOLOv6/yolov6/utils/config.py\", line 12, in <module>\n",
            "    from addict import Dict\n",
            "ModuleNotFoundError: No module named 'addict'\n"
          ]
        }
      ]
    }
  ]
}