{
  "cells": [
    {
      "cell_type": "code",
      "execution_count": 1,
      "metadata": {
        "colab": {
          "base_uri": "https://localhost:8080/"
        },
        "id": "Sg1WXIW2xeqV",
        "outputId": "e5f36276-772b-44cc-cfd5-1292cc08705c"
      },
      "outputs": [
        {
          "output_type": "stream",
          "name": "stdout",
          "text": [
            "Mounted at /content/drive\n"
          ]
        }
      ],
      "source": [
        "from google.colab import drive\n",
        "drive.mount('/content/drive')"
      ]
    },
    {
      "cell_type": "code",
      "source": [
        "!conda create chr36 --file='/content/drive/MyDrive/CHR36/chr36.yml'"
      ],
      "metadata": {
        "colab": {
          "base_uri": "https://localhost:8080/"
        },
        "id": "EmkwZBYB9dIm",
        "outputId": "b8f25cdb-f403-4b81-e6d7-fb7c69cfa609"
      },
      "execution_count": null,
      "outputs": [
        {
          "output_type": "stream",
          "name": "stdout",
          "text": [
            "ERROR: The install method you used for conda--probably either `pip install conda`\n",
            "or `easy_install conda`--is not compatible with using conda as an application.\n",
            "If your intention is to install conda as a standalone application, currently\n",
            "supported install methods include the Anaconda installer and the miniconda\n",
            "installer.  You can download the miniconda installer from\n",
            "https://conda.io/miniconda.html.\n",
            "\n"
          ]
        }
      ]
    },
    {
      "cell_type": "code",
      "source": [
        "!pip install torchnet"
      ],
      "metadata": {
        "colab": {
          "base_uri": "https://localhost:8080/"
        },
        "id": "0rb8y_F-qr5a",
        "outputId": "e04a094f-1d59-48b3-c564-7244fe93c27a"
      },
      "execution_count": 2,
      "outputs": [
        {
          "output_type": "stream",
          "name": "stdout",
          "text": [
            "Looking in indexes: https://pypi.org/simple, https://us-python.pkg.dev/colab-wheels/public/simple/\n",
            "Collecting torchnet\n",
            "  Downloading torchnet-0.0.4.tar.gz (23 kB)\n",
            "Requirement already satisfied: torch in /usr/local/lib/python3.7/dist-packages (from torchnet) (1.12.1+cu113)\n",
            "Requirement already satisfied: six in /usr/local/lib/python3.7/dist-packages (from torchnet) (1.15.0)\n",
            "Collecting visdom\n",
            "  Downloading visdom-0.2.3.tar.gz (1.4 MB)\n",
            "\u001b[K     |████████████████████████████████| 1.4 MB 11.0 MB/s \n",
            "\u001b[?25hRequirement already satisfied: typing-extensions in /usr/local/lib/python3.7/dist-packages (from torch->torchnet) (4.1.1)\n",
            "Requirement already satisfied: numpy>=1.8 in /usr/local/lib/python3.7/dist-packages (from visdom->torchnet) (1.21.6)\n",
            "Requirement already satisfied: scipy in /usr/local/lib/python3.7/dist-packages (from visdom->torchnet) (1.7.3)\n",
            "Requirement already satisfied: requests in /usr/local/lib/python3.7/dist-packages (from visdom->torchnet) (2.23.0)\n",
            "Requirement already satisfied: tornado in /usr/local/lib/python3.7/dist-packages (from visdom->torchnet) (6.0.4)\n",
            "Collecting jsonpatch\n",
            "  Downloading jsonpatch-1.32-py2.py3-none-any.whl (12 kB)\n",
            "Collecting websocket-client\n",
            "  Downloading websocket_client-1.4.2-py3-none-any.whl (55 kB)\n",
            "\u001b[K     |████████████████████████████████| 55 kB 3.9 MB/s \n",
            "\u001b[?25hRequirement already satisfied: networkx in /usr/local/lib/python3.7/dist-packages (from visdom->torchnet) (2.6.3)\n",
            "Requirement already satisfied: pillow in /usr/local/lib/python3.7/dist-packages (from visdom->torchnet) (7.1.2)\n",
            "Collecting jsonpointer>=1.9\n",
            "  Downloading jsonpointer-2.3-py2.py3-none-any.whl (7.8 kB)\n",
            "Requirement already satisfied: chardet<4,>=3.0.2 in /usr/local/lib/python3.7/dist-packages (from requests->visdom->torchnet) (3.0.4)\n",
            "Requirement already satisfied: idna<3,>=2.5 in /usr/local/lib/python3.7/dist-packages (from requests->visdom->torchnet) (2.10)\n",
            "Requirement already satisfied: certifi>=2017.4.17 in /usr/local/lib/python3.7/dist-packages (from requests->visdom->torchnet) (2022.9.24)\n",
            "Requirement already satisfied: urllib3!=1.25.0,!=1.25.1,<1.26,>=1.21.1 in /usr/local/lib/python3.7/dist-packages (from requests->visdom->torchnet) (1.24.3)\n",
            "Building wheels for collected packages: torchnet, visdom\n",
            "  Building wheel for torchnet (setup.py) ... \u001b[?25l\u001b[?25hdone\n",
            "  Created wheel for torchnet: filename=torchnet-0.0.4-py3-none-any.whl size=29741 sha256=bdfb615526be86a4a4328ad7b4f342f989e54533ce02e1bf88c464195a5e639a\n",
            "  Stored in directory: /root/.cache/pip/wheels/93/17/b3/86db1d93e9dae198813aa79831b403e4844d67986cf93894b5\n",
            "  Building wheel for visdom (setup.py) ... \u001b[?25l\u001b[?25hdone\n",
            "  Created wheel for visdom: filename=visdom-0.2.3-py3-none-any.whl size=1417107 sha256=c5f771dc867c2f40056f8233e08e231fd6cbb3d3cd02c4fa5dfebcfb3048bae6\n",
            "  Stored in directory: /root/.cache/pip/wheels/6c/cc/34/0a5e6c65ecd5efecaebb4e9a913d438643dbc50e739d1662ca\n",
            "Successfully built torchnet visdom\n",
            "Installing collected packages: jsonpointer, websocket-client, jsonpatch, visdom, torchnet\n",
            "Successfully installed jsonpatch-1.32 jsonpointer-2.3 torchnet-0.0.4 visdom-0.2.3 websocket-client-1.4.2\n"
          ]
        }
      ]
    },
    {
      "cell_type": "code",
      "source": [
        "!python /content/drive/MyDrive/CHR36/CHR/CHR/change_csv.py"
      ],
      "metadata": {
        "id": "F2_BLE8J1ZRR"
      },
      "execution_count": 4,
      "outputs": []
    },
    {
      "cell_type": "code",
      "source": [
        "!pip install torch"
      ],
      "metadata": {
        "colab": {
          "base_uri": "https://localhost:8080/"
        },
        "id": "LweTT3BJBIhe",
        "outputId": "46a76191-45f5-4e2a-bb5c-cead3d040a3b"
      },
      "execution_count": 3,
      "outputs": [
        {
          "output_type": "stream",
          "name": "stdout",
          "text": [
            "Looking in indexes: https://pypi.org/simple, https://us-python.pkg.dev/colab-wheels/public/simple/\n",
            "Requirement already satisfied: torch in /usr/local/lib/python3.7/dist-packages (1.12.1+cu113)\n",
            "Requirement already satisfied: typing-extensions in /usr/local/lib/python3.7/dist-packages (from torch) (4.1.1)\n"
          ]
        }
      ]
    },
    {
      "cell_type": "code",
      "source": [
        "import os\n",
        "import sys\n",
        "os.environ['PYTHONPATH']  = \"/env/python\"\n",
        "os.environ['PYTHONPATH'] += \":content/drive/MyDrive/CHR36/CHR/utils\"\n",
        "\n",
        "\n",
        "! echo $PYTHONPATH"
      ],
      "metadata": {
        "colab": {
          "base_uri": "https://localhost:8080/"
        },
        "id": "ZTsMPLH4smzI",
        "outputId": "b4c1e62c-af6c-4efb-b6a7-c3dfe4f1442c"
      },
      "execution_count": 5,
      "outputs": [
        {
          "output_type": "stream",
          "name": "stdout",
          "text": [
            "/env/python:content/drive/MyDrive/CHR36/CHR/utils\n"
          ]
        }
      ]
    },
    {
      "cell_type": "code",
      "source": [
        "#to generate checkpoint file\n",
        "!python /content/drive/MyDrive/CHR36/CHR/imagenet.py --pretrained -d '/content/drive/MyDrive/CHR36/CHR/ImageSet/10'"
      ],
      "metadata": {
        "colab": {
          "base_uri": "https://localhost:8080/"
        },
        "id": "ZDy01BpLCWi9",
        "outputId": "6606e5b9-ab38-4786-b60a-6f4c5cc273a5"
      },
      "execution_count": 10,
      "outputs": [
        {
          "output_type": "stream",
          "name": "stdout",
          "text": [
            "Traceback (most recent call last):\n",
            "  File \"/content/drive/MyDrive/CHR36/CHR/imagenet.py\", line 344, in <module>\n",
            "    main()\n",
            "  File \"/content/drive/MyDrive/CHR36/CHR/imagenet.py\", line 128, in main\n",
            "    normalize,\n",
            "  File \"/usr/local/lib/python3.7/dist-packages/torchvision/datasets/folder.py\", line 316, in __init__\n",
            "    is_valid_file=is_valid_file,\n",
            "  File \"/usr/local/lib/python3.7/dist-packages/torchvision/datasets/folder.py\", line 145, in __init__\n",
            "    classes, class_to_idx = self.find_classes(self.root)\n",
            "  File \"/usr/local/lib/python3.7/dist-packages/torchvision/datasets/folder.py\", line 219, in find_classes\n",
            "    return find_classes(directory)\n",
            "  File \"/usr/local/lib/python3.7/dist-packages/torchvision/datasets/folder.py\", line 41, in find_classes\n",
            "    classes = sorted(entry.name for entry in os.scandir(directory) if entry.is_dir())\n",
            "FileNotFoundError: [Errno 2] No such file or directory: '/content/drive/MyDrive/CHR36/CHR/ImageSet/10/train'\n"
          ]
        }
      ]
    },
    {
      "cell_type": "code",
      "source": [
        "!cd /content/drive/MyDrive/CHR36/CHR\n",
        "!bash /content/drive/MyDrive/CHR36/CHR/CHR/runme.sh"
      ],
      "metadata": {
        "colab": {
          "base_uri": "https://localhost:8080/"
        },
        "id": "ViDZU2llkN9N",
        "outputId": "8083f23e-7a3e-4516-908b-a563464b3249"
      },
      "execution_count": 8,
      "outputs": [
        {
          "output_type": "stream",
          "name": "stdout",
          "text": [
            "/usr/local/lib/python3.7/dist-packages/torchvision/models/_utils.py:136: UserWarning: Using 'weights' as positional parameter(s) is deprecated since 0.13 and will be removed in 0.15. Please use keyword parameter(s) instead.\n",
            "  f\"Using {sequence_to_str(tuple(keyword_only_kwargs.keys()), separate_last='and ')} as positional \"\n",
            "/usr/local/lib/python3.7/dist-packages/torchvision/models/_utils.py:223: UserWarning: Arguments other than a weight enum or `None` for 'weights' are deprecated since 0.13 and will be removed in 0.15. The current behavior is equivalent to passing `weights=ResNet101_Weights.IMAGENET1K_V1`. You can also use `weights=ResNet101_Weights.DEFAULT` to get the most up-to-date weights.\n",
            "  warnings.warn(msg)\n",
            "[dataset] read /content/drive/MyDrive/CHR36/CHR/ImageSet/10/reduced_train.csv\n",
            "[dataset] X-ray classification set=/content/drive/MyDrive/CHR36/CHR/ImageSet/10/reduced_train number of classes=5  number of images=6298\n",
            "[dataset] read /content/drive/MyDrive/CHR36/CHR/ImageSet/10/reduced_test.csv\n",
            "[dataset] X-ray classification set=/content/drive/MyDrive/CHR36/CHR/ImageSet/10/reduced_test number of classes=5  number of images=1159\n",
            "=> loading checkpoint '/content/drive/MyDrive/CHR36/CHR/models-/checkpoint.pth.tar'\n",
            "Traceback (most recent call last):\n",
            "  File \"/content/drive/MyDrive/CHR36/CHR/CHR/main.py\", line 112, in <module>\n",
            "    main_ray()\n",
            "  File \"/content/drive/MyDrive/CHR36/CHR/CHR/main.py\", line 108, in main_ray\n",
            "    engine.learning(model, criterion, train_dataset, val_dataset, optimizer)\n",
            "  File \"/content/drive/MyDrive/CHR36/CHR/CHR/engine.py\", line 211, in learning\n",
            "    self.state['best_score'] = checkpoint['best_score']\n",
            "KeyError: 'best_score'\n"
          ]
        }
      ]
    }
  ],
  "metadata": {
    "accelerator": "GPU",
    "colab": {
      "provenance": []
    },
    "gpuClass": "standard",
    "kernelspec": {
      "display_name": "Python 3",
      "name": "python3"
    },
    "language_info": {
      "name": "python"
    }
  },
  "nbformat": 4,
  "nbformat_minor": 0
}